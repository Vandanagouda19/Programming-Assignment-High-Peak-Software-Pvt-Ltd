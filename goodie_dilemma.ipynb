{
 "cells": [
  {
   "cell_type": "code",
   "execution_count": 2,
   "metadata": {},
   "outputs": [
    {
     "name": "stdout",
     "output_type": "stream",
     "text": [
      "ENTER NUMBER OF EMPLOYEE: \n",
      "1\n",
      "Here the goodies that are selected for distribution are: \n",
      "\n",
      "('MI Band', 999)\n",
      "\n",
      "AND THE DIFFERENCE BETWEEN THE CHOSEN GOODIE WITH HIGHEST PRICE AND THE LOWEST PRICE IS  : 0\n"
     ]
    }
   ],
   "source": [
    "def diff(price, N, M): #keep finding the difference between the elements\n",
    "    #price.sort()\n",
    "# Variable Declaration\n",
    "\tprev = 999999 \n",
    "\tminimum = 0\n",
    "\thigh = 0\n",
    "\tlow = 0\n",
    "\t\n",
    "\tprint(\"Here the goodies that are selected for distribution are: \\n\")\n",
    "\tfor i in range(N-M+1):\n",
    "\t\tminimum = min(prev, price[i+M-1][1] - price[i][1])\n",
    "\t\tif minimum < prev:\n",
    "\t\t\thigh = i+M-1\n",
    "\t\t\tlow = i\n",
    "\t\tprev = minimum\n",
    "\t\t\n",
    "\treturn high, low, minimum\n",
    "\n",
    "items = {}\n",
    "#extracting input file\n",
    "with open(\"goodie.txt\") as f:\n",
    "    for line in f:\n",
    "       (key, val) = line.split(\": \")\n",
    "       items[key] = int(val)\t   \n",
    "#print(items)\n",
    "#price = list(items.values())\n",
    "sort_items = sorted(items.items(), key = lambda x:x[1])\n",
    "\n",
    "#No of Goodies\n",
    "N = len(items)\n",
    "#print(N)\n",
    "\n",
    "#No of employees\n",
    "M = int(input(\"ENTER NUMBER OF EMPLOYEE: \\n\"))\n",
    "#print(no_of_employee)\n",
    "\n",
    "high, low, minDiff = diff(sort_items, N, M)\n",
    "\n",
    "for i in range(low,high+1):\n",
    "\tprint(sort_items[i])\n",
    "\n",
    "print(\"\\nAND THE DIFFERENCE BETWEEN THE CHOSEN GOODIE WITH HIGHEST PRICE AND THE LOWEST PRICE IS  :\", minDiff)"
   ]
  },
  {
   "cell_type": "code",
   "execution_count": null,
   "metadata": {
    "collapsed": true
   },
   "outputs": [],
   "source": []
  }
 ],
 "metadata": {
  "kernelspec": {
   "display_name": "Python 3",
   "language": "python",
   "name": "python3"
  },
  "language_info": {
   "codemirror_mode": {
    "name": "ipython",
    "version": 3
   },
   "file_extension": ".py",
   "mimetype": "text/x-python",
   "name": "python",
   "nbconvert_exporter": "python",
   "pygments_lexer": "ipython3",
   "version": "3.7.1"
  }
 },
 "nbformat": 4,
 "nbformat_minor": 2
}
